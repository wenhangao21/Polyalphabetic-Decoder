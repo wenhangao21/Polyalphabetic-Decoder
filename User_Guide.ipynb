{
 "cells": [
  {
   "cell_type": "markdown",
   "metadata": {
    "id": "TCfm4oscNlML"
   },
   "source": [
    "# User Guide\n",
    "\n",
    "---\n",
    "\n",
    "\n",
    "\n",
    "\n",
    "\n",
    "\n"
   ]
  },
  {
   "cell_type": "markdown",
   "metadata": {
    "id": "WaH4XkZhwwXE"
   },
   "source": [
    "To use tihs program:\n",
    "1.   Change ciphertext in ciphertext.txt to be your texts\n",
    "2.   Under Change Directory and Import Modules, change directory path to where you store this program(may be needed depending on your machine configuration) \n",
    "3.   Increase the number of trials second keyword shift, the number of initial trials for the first substitution keyword, the number of swaps may increase accurary.\n",
    "\n",
    "Encryption and decryption details can be found under the git repo. There is a pdf file.\n",
    "\n",
    "\n"
   ]
  },
  {
   "cell_type": "markdown",
   "metadata": {
    "id": "LX3bTAq5Qn-w"
   },
   "source": [
    "### Change Directory and Import Modules"
   ]
  },
  {
   "cell_type": "code",
   "execution_count": 6,
   "metadata": {
    "colab": {
     "base_uri": "https://localhost:8080/"
    },
    "executionInfo": {
     "elapsed": 1677,
     "status": "ok",
     "timestamp": 1649904480003,
     "user": {
      "displayName": "Wenhan Gao",
      "userId": "01637849681847403300"
     },
     "user_tz": 240
    },
    "id": "TuFEArUaWc0h",
    "outputId": "f2ffd14c-adc3-4375-8341-2a51a7a7fe8d"
   },
   "outputs": [
    {
     "data": {
      "text/html": [
       "\n",
       "  <style>\n",
       "    pre {\n",
       "        white-space: pre;\n",
       "    }\n",
       "  </style>\n",
       "  "
      ],
      "text/plain": [
       "<IPython.core.display.HTML object>"
      ]
     },
     "metadata": {},
     "output_type": "display_data"
    },
    {
     "data": {
      "text/html": [
       "\n",
       "  <style>\n",
       "    pre {\n",
       "        white-space: pre;\n",
       "    }\n",
       "  </style>\n",
       "  "
      ],
      "text/plain": [
       "<IPython.core.display.HTML object>"
      ]
     },
     "metadata": {},
     "output_type": "display_data"
    }
   ],
   "source": [
    "# change directory to current folder, change this as you run it\n",
    "#%cd /content/drive/My\\ Drive/jupyter/decoder\n",
    "import decrypt\n",
    "from split_words import wordninja\n",
    "from decrypt import vigenere_decryption as vdcp\n",
    "from decrypt import mono_decryption as mdcp\n",
    "import re\n",
    "######## For notebook display only #############\n",
    "# to disable output wrapping in notebook\n",
    "from IPython.display import HTML, display\n",
    "def set_css():\n",
    "  display(HTML('''\n",
    "  <style>\n",
    "    pre {\n",
    "        white-space: pre;\n",
    "    }\n",
    "  </style>\n",
    "  '''))\n",
    "get_ipython().events.register('pre_run_cell', set_css)\n",
    "# to add outputwrap for the plaintext\n",
    "import textwrap\n",
    "wrapper = textwrap.TextWrapper(width=80,\n",
    "    initial_indent=\" \" * 4,\n",
    "    subsequent_indent=\" \" * 4,\n",
    "    break_long_words=False,\n",
    "    break_on_hyphens=False)"
   ]
  },
  {
   "cell_type": "markdown",
   "metadata": {
    "id": "gHJlkp6dQwDx"
   },
   "source": [
    "### Handling ciphertext"
   ]
  },
  {
   "cell_type": "code",
   "execution_count": 7,
   "metadata": {
    "colab": {
     "base_uri": "https://localhost:8080/",
     "height": 72
    },
    "executionInfo": {
     "elapsed": 128,
     "status": "ok",
     "timestamp": 1649906107053,
     "user": {
      "displayName": "Wenhan Gao",
      "userId": "01637849681847403300"
     },
     "user_tz": 240
    },
    "id": "DscFqSKoQFVw",
    "outputId": "15ee3cf9-5425-45a7-f12e-b27f4dac304b"
   },
   "outputs": [
    {
     "data": {
      "text/html": [
       "\n",
       "  <style>\n",
       "    pre {\n",
       "        white-space: pre;\n",
       "    }\n",
       "  </style>\n",
       "  "
      ],
      "text/plain": [
       "<IPython.core.display.HTML object>"
      ]
     },
     "metadata": {},
     "output_type": "display_data"
    },
    {
     "data": {
      "text/html": [
       "\n",
       "  <style>\n",
       "    pre {\n",
       "        white-space: pre;\n",
       "    }\n",
       "  </style>\n",
       "  "
      ],
      "text/plain": [
       "<IPython.core.display.HTML object>"
      ]
     },
     "metadata": {},
     "output_type": "display_data"
    },
    {
     "data": {
      "text/html": [
       "\n",
       "  <style>\n",
       "    pre {\n",
       "        white-space: pre;\n",
       "    }\n",
       "  </style>\n",
       "  "
      ],
      "text/plain": [
       "<IPython.core.display.HTML object>"
      ]
     },
     "metadata": {},
     "output_type": "display_data"
    },
    {
     "name": "stdout",
     "output_type": "stream",
     "text": [
      "ciphertext:\n",
      " UUJOTTPFLKTCYOUHNABTOKDFUTPDXXUXDZQUPHBSRIWGMEEPJQOHNGYEHCYGJIACAKPYWAHCOBUJURQOUIXIZOKDIZOVTFZRCRXKHOPJPHOPJAXLQOTUSKCKHLKCHUSJODJVNCOHUAMARRXPQXFDJNNUKEWEUREUJICZRTSXIZRMCJPHFKBBUYGPXTWRDAHCJOUJIJOUUYGOXBYCIBCPDZQXVDMDHVPIOGHZPXQNCZZRVNJNESGEAVHRQMEPYMAOMQMUJIIPNICCHTTYFPXHJDOKRVNLNKWDSATJEGHHIRDNTFNPXQUNWKHYCITHSXCKKMGJNNLQOTTJGBMVINJMAHAYARYCIBCPDZCULQBXEHOBUUYGOXBLCHUAUACHHXDDMVODMU\n"
     ]
    }
   ],
   "source": [
    "f = open(\"ciphertext.txt\", \"r\")          # ciphertext.txt contains the cipher-text, change the text as you use this program\n",
    "msg = f.read()\n",
    "msg = ''.join(filter(str.isalpha, msg))\n",
    "msg = msg.upper()                 # now msg is a string that consists of only upper case letters\n",
    "print(\"ciphertext:\\n\", msg)"
   ]
  },
  {
   "cell_type": "markdown",
   "metadata": {
    "id": "7Qkjq70EQ1iI"
   },
   "source": [
    "### Calculating Index of Coincidence and Finding the Second Keyword Length"
   ]
  },
  {
   "cell_type": "code",
   "execution_count": 8,
   "metadata": {
    "colab": {
     "base_uri": "https://localhost:8080/",
     "height": 158
    },
    "executionInfo": {
     "elapsed": 142,
     "status": "ok",
     "timestamp": 1649904486122,
     "user": {
      "displayName": "Wenhan Gao",
      "userId": "01637849681847403300"
     },
     "user_tz": 240
    },
    "id": "XBVB4vQVRGJx",
    "outputId": "5eaeb611-2ec1-488a-819f-a3b6c2018bdf"
   },
   "outputs": [
    {
     "data": {
      "text/html": [
       "\n",
       "  <style>\n",
       "    pre {\n",
       "        white-space: pre;\n",
       "    }\n",
       "  </style>\n",
       "  "
      ],
      "text/plain": [
       "<IPython.core.display.HTML object>"
      ]
     },
     "metadata": {},
     "output_type": "display_data"
    },
    {
     "data": {
      "text/html": [
       "\n",
       "  <style>\n",
       "    pre {\n",
       "        white-space: pre;\n",
       "    }\n",
       "  </style>\n",
       "  "
      ],
      "text/plain": [
       "<IPython.core.display.HTML object>"
      ]
     },
     "metadata": {},
     "output_type": "display_data"
    },
    {
     "data": {
      "text/html": [
       "\n",
       "  <style>\n",
       "    pre {\n",
       "        white-space: pre;\n",
       "    }\n",
       "  </style>\n",
       "  "
      ],
      "text/plain": [
       "<IPython.core.display.HTML object>"
      ]
     },
     "metadata": {},
     "output_type": "display_data"
    },
    {
     "name": "stdout",
     "output_type": "stream",
     "text": [
      "Suppose keyword length is 4. Frequency of letters:\n",
      "A 4   B 0   C 5   D 4   E 3   F 2   G 1   H 7   I 7   J 8   K 2   L 2   M 4   N 6   O 6   P 3   Q 3   R 4   S 3   T 3   U 10   V 2   W 2   X 4   Y 2   Z 1   \n",
      "IC4 =  0.04334104775930991\n",
      "Suppose keyword length is 5. Frequency of letters:\n",
      "A 2   B 2   C 2   D 0   E 6   F 0   G 1   H 14   I 1   J 6   K 3   L 0   M 0   N 2   O 5   P 0   Q 2   R 7   S 0   T 9   U 10   V 3   W 0   X 3   Y 0   Z 0   \n",
      "IC5 =  0.08225108225108224\n",
      "IC5 > IC4, second keyword length is 5\n"
     ]
    }
   ],
   "source": [
    "second_keyword_length = vdcp().second_key_word_length(msg)"
   ]
  },
  {
   "cell_type": "markdown",
   "metadata": {
    "id": "NXyRdEWJmTN8"
   },
   "source": [
    "### Frequency Strips and Finding Promising Second Keyword Shifts"
   ]
  },
  {
   "cell_type": "code",
   "execution_count": 9,
   "metadata": {
    "colab": {
     "base_uri": "https://localhost:8080/",
     "height": 454
    },
    "executionInfo": {
     "elapsed": 133,
     "status": "ok",
     "timestamp": 1649904488460,
     "user": {
      "displayName": "Wenhan Gao",
      "userId": "01637849681847403300"
     },
     "user_tz": 240
    },
    "id": "JWbkCw6Fmgij",
    "outputId": "59504598-8dd7-4ca1-8512-924a6e239513",
    "scrolled": true
   },
   "outputs": [
    {
     "data": {
      "text/html": [
       "\n",
       "  <style>\n",
       "    pre {\n",
       "        white-space: pre;\n",
       "    }\n",
       "  </style>\n",
       "  "
      ],
      "text/plain": [
       "<IPython.core.display.HTML object>"
      ]
     },
     "metadata": {},
     "output_type": "display_data"
    },
    {
     "data": {
      "text/html": [
       "\n",
       "  <style>\n",
       "    pre {\n",
       "        white-space: pre;\n",
       "    }\n",
       "  </style>\n",
       "  "
      ],
      "text/plain": [
       "<IPython.core.display.HTML object>"
      ]
     },
     "metadata": {},
     "output_type": "display_data"
    },
    {
     "data": {
      "text/html": [
       "\n",
       "  <style>\n",
       "    pre {\n",
       "        white-space: pre;\n",
       "    }\n",
       "  </style>\n",
       "  "
      ],
      "text/plain": [
       "<IPython.core.display.HTML object>"
      ]
     },
     "metadata": {},
     "output_type": "display_data"
    },
    {
     "name": "stdout",
     "output_type": "stream",
     "text": [
      "\n",
      "|   A |   B |   C |   D |   E |   F |   G |   H |   I |   J |   K |   L |   M |   N |   O |   P |   Q |   R |   S |   T |   U |   V |   W |   X |   Y |   Z |\n",
      "|-----|-----|-----|-----|-----|-----|-----|-----|-----|-----|-----|-----|-----|-----|-----|-----|-----|-----|-----|-----|-----|-----|-----|-----|-----|-----|\n",
      "|   2 |   2 |   2 |   0 |   6 |   0 |   1 |   1 |   1 |   6 |   3 |   0 |   0 |   2 |   5 |   0 |   2 |   7 |   0 |   9 |   1 |   3 |   0 |   3 |   0 |   0 |\n",
      "|     |     |     |     |     |     |     |   4 |     |     |     |     |     |     |     |     |     |     |     |     |   0 |     |     |     |     |     |\n",
      "\n",
      "|   A |   B |   C |   D |   E |   F |   G |   H |   I |   J |   K |   L |   M |   N |   O |   P |   Q |   R |   S |   T |   U |   V |   W |   X |   Y |   Z |\n",
      "|-----|-----|-----|-----|-----|-----|-----|-----|-----|-----|-----|-----|-----|-----|-----|-----|-----|-----|-----|-----|-----|-----|-----|-----|-----|-----|\n",
      "|   0 |   0 |   5 |   0 |   1 |   3 |   0 |   6 |   8 |   3 |   2 |   5 |   3 |   2 |   3 |   7 |   0 |   1 |   5 |   0 |   7 |   6 |   2 |   2 |   7 |   0 |\n",
      "\n",
      "|   A |   B |   C |   D |   E |   F |   G |   H |   I |   J |   K |   L |   M |   N |   O |   P |   Q |   R |   S |   T |   U |   V |   W |   X |   Y |   Z |\n",
      "|-----|-----|-----|-----|-----|-----|-----|-----|-----|-----|-----|-----|-----|-----|-----|-----|-----|-----|-----|-----|-----|-----|-----|-----|-----|-----|\n",
      "|   5 |   0 |   9 |   1 |   1 |   2 |   6 |   1 |   1 |   4 |   4 |   0 |   0 |   7 |   2 |   4 |   4 |   6 |   0 |   1 |   0 |   0 |   1 |   4 |   3 |   1 |\n",
      "|     |     |     |   2 |     |     |     |     |     |     |     |     |     |     |     |     |     |     |     |     |     |     |     |     |     |     |\n",
      "\n",
      "|   A |   B |   C |   D |   E |   F |   G |   H |   I |   J |   K |   L |   M |   N |   O |   P |   Q |   R |   S |   T |   U |   V |   W |   X |   Y |   Z |\n",
      "|-----|-----|-----|-----|-----|-----|-----|-----|-----|-----|-----|-----|-----|-----|-----|-----|-----|-----|-----|-----|-----|-----|-----|-----|-----|-----|\n",
      "|   0 |   7 |   6 |   3 |   3 |   2 |   3 |   2 |   7 |   8 |   0 |   2 |   5 |   0 |   1 |   6 |   2 |   0 |   1 |   0 |   0 |   0 |   2 |   2 |   2 |   5 |\n",
      "|     |     |     |     |     |     |     |     |     |     |     |     |     |     |   0 |     |     |     |     |     |     |     |     |     |     |     |\n",
      "\n",
      "|   A |   B |   C |   D |   E |   F |   G |   H |   I |   J |   K |   L |   M |   N |   O |   P |   Q |   R |   S |   T |   U |   V |   W |   X |   Y |   Z |\n",
      "|-----|-----|-----|-----|-----|-----|-----|-----|-----|-----|-----|-----|-----|-----|-----|-----|-----|-----|-----|-----|-----|-----|-----|-----|-----|-----|\n",
      "|   9 |   3 |   1 |   2 |   0 |   0 |   1 |   3 |   0 |   0 |   6 |   0 |   5 |   6 |   3 |   2 |   4 |   1 |   1 |   6 |   1 |   0 |   1 |   8 |   1 |   5 |\n",
      "|     |     |     |     |     |     |     |     |     |     |     |     |     |     |     |     |     |     |     |     |   0 |     |     |     |     |     |\n"
     ]
    }
   ],
   "source": [
    "vdcp().visualize_strips(msg, second_keyword_length)"
   ]
  },
  {
   "cell_type": "markdown",
   "metadata": {
    "id": "QMlAxYEg-clS"
   },
   "source": [
    "Now, we let the program perform aligning frequency strips and return a few promising shifts."
   ]
  },
  {
   "cell_type": "code",
   "execution_count": 10,
   "metadata": {
    "colab": {
     "base_uri": "https://localhost:8080/",
     "height": 34
    },
    "executionInfo": {
     "elapsed": 28604,
     "status": "ok",
     "timestamp": 1649904693216,
     "user": {
      "displayName": "Wenhan Gao",
      "userId": "01637849681847403300"
     },
     "user_tz": 240
    },
    "id": "kswDLA3P-PHZ",
    "outputId": "4fd24ee9-3917-4d3e-818e-9481d4ab1264"
   },
   "outputs": [
    {
     "data": {
      "text/html": [
       "\n",
       "  <style>\n",
       "    pre {\n",
       "        white-space: pre;\n",
       "    }\n",
       "  </style>\n",
       "  "
      ],
      "text/plain": [
       "<IPython.core.display.HTML object>"
      ]
     },
     "metadata": {},
     "output_type": "display_data"
    },
    {
     "data": {
      "text/html": [
       "\n",
       "  <style>\n",
       "    pre {\n",
       "        white-space: pre;\n",
       "    }\n",
       "  </style>\n",
       "  "
      ],
      "text/plain": [
       "<IPython.core.display.HTML object>"
      ]
     },
     "metadata": {},
     "output_type": "display_data"
    },
    {
     "data": {
      "text/html": [
       "\n",
       "  <style>\n",
       "    pre {\n",
       "        white-space: pre;\n",
       "    }\n",
       "  </style>\n",
       "  "
      ],
      "text/plain": [
       "<IPython.core.display.HTML object>"
      ]
     },
     "metadata": {},
     "output_type": "display_data"
    },
    {
     "name": "stdout",
     "output_type": "stream",
     "text": [
      "[(1, 22, 21, 6), (1, 3, 21, 6), (1, 22, 21, 19)]\n"
     ]
    }
   ],
   "source": [
    "freq_strips = vdcp().frequency_strip(msg, second_keyword_length)\n",
    "txt_len = len(msg)\n",
    "guess_shifts = vdcp().get_guess_shifts(freq_strips, txt_len, 3)  # we return 3 most promising second keyword shifts \n",
    "print(guess_shifts)"
   ]
  },
  {
   "cell_type": "markdown",
   "metadata": {
    "id": "d60zWMbmA3LB"
   },
   "source": [
    "### Monoalphabetic Decoding With Guess Second Keyword Shifts"
   ]
  },
  {
   "cell_type": "markdown",
   "metadata": {
    "id": "ugu4lM9NAnVR"
   },
   "source": [
    "With some guess shifts, we  try out each one of them."
   ]
  },
  {
   "cell_type": "code",
   "execution_count": 11,
   "metadata": {
    "colab": {
     "base_uri": "https://localhost:8080/",
     "height": 17
    },
    "executionInfo": {
     "elapsed": 258,
     "status": "ok",
     "timestamp": 1649905421503,
     "user": {
      "displayName": "Wenhan Gao",
      "userId": "01637849681847403300"
     },
     "user_tz": 240
    },
    "id": "BZlK0I8LA_ch",
    "outputId": "33205d3c-e1bf-45fa-cf34-c010e2ed65ca"
   },
   "outputs": [
    {
     "data": {
      "text/html": [
       "\n",
       "  <style>\n",
       "    pre {\n",
       "        white-space: pre;\n",
       "    }\n",
       "  </style>\n",
       "  "
      ],
      "text/plain": [
       "<IPython.core.display.HTML object>"
      ]
     },
     "metadata": {},
     "output_type": "display_data"
    },
    {
     "data": {
      "text/html": [
       "\n",
       "  <style>\n",
       "    pre {\n",
       "        white-space: pre;\n",
       "    }\n",
       "  </style>\n",
       "  "
      ],
      "text/plain": [
       "<IPython.core.display.HTML object>"
      ]
     },
     "metadata": {},
     "output_type": "display_data"
    },
    {
     "data": {
      "text/html": [
       "\n",
       "  <style>\n",
       "    pre {\n",
       "        white-space: pre;\n",
       "    }\n",
       "  </style>\n",
       "  "
      ],
      "text/plain": [
       "<IPython.core.display.HTML object>"
      ]
     },
     "metadata": {},
     "output_type": "display_data"
    }
   ],
   "source": [
    "freq_dict = mdcp().get_frequency_dictionary()  # a hashmap, key: trigrams; value: relative frequency in Englsih\n",
    "best_rating = 0        # initialize a rating for each key, updated key if we get better ratings"
   ]
  },
  {
   "cell_type": "markdown",
   "metadata": {
    "id": "0yTLx4LTBeaC"
   },
   "source": [
    "Loop through each guess second keyword shifts and do mono-alphabetic decoding on each one of them, and select the best result."
   ]
  },
  {
   "cell_type": "code",
   "execution_count": 12,
   "metadata": {
    "colab": {
     "base_uri": "https://localhost:8080/",
     "height": 17
    },
    "executionInfo": {
     "elapsed": 88549,
     "status": "ok",
     "timestamp": 1649906221515,
     "user": {
      "displayName": "Wenhan Gao",
      "userId": "01637849681847403300"
     },
     "user_tz": 240
    },
    "id": "a-78rjc6BOW_",
    "outputId": "4bcdd672-4f0c-45c7-da92-d881391f50c7"
   },
   "outputs": [
    {
     "data": {
      "text/html": [
       "\n",
       "  <style>\n",
       "    pre {\n",
       "        white-space: pre;\n",
       "    }\n",
       "  </style>\n",
       "  "
      ],
      "text/plain": [
       "<IPython.core.display.HTML object>"
      ]
     },
     "metadata": {},
     "output_type": "display_data"
    },
    {
     "data": {
      "text/html": [
       "\n",
       "  <style>\n",
       "    pre {\n",
       "        white-space: pre;\n",
       "    }\n",
       "  </style>\n",
       "  "
      ],
      "text/plain": [
       "<IPython.core.display.HTML object>"
      ]
     },
     "metadata": {},
     "output_type": "display_data"
    },
    {
     "data": {
      "text/html": [
       "\n",
       "  <style>\n",
       "    pre {\n",
       "        white-space: pre;\n",
       "    }\n",
       "  </style>\n",
       "  "
      ],
      "text/plain": [
       "<IPython.core.display.HTML object>"
      ]
     },
     "metadata": {},
     "output_type": "display_data"
    }
   ],
   "source": [
    "for guess_shift in guess_shifts:\n",
    "    second_keyword = \"A\"\n",
    "    for s in guess_shift:\n",
    "        second_keyword += chr(65+s)\n",
    "    ciphertext = vdcp().vigenere_decrypt(msg, second_keyword, len(second_keyword))\n",
    "    sub, rating = mdcp().get_key(ciphertext, 50, 5000, freq_dict)\n",
    "    if rating > best_rating:\n",
    "        best_rating = rating\n",
    "        best_sub = sub\n",
    "        best_v_keyword = second_keyword"
   ]
  },
  {
   "cell_type": "code",
   "execution_count": 13,
   "metadata": {
    "colab": {
     "base_uri": "https://localhost:8080/",
     "height": 156
    },
    "executionInfo": {
     "elapsed": 121,
     "status": "ok",
     "timestamp": 1649906250949,
     "user": {
      "displayName": "Wenhan Gao",
      "userId": "01637849681847403300"
     },
     "user_tz": 240
    },
    "id": "x87P6z4iBu05",
    "outputId": "d664651e-3dc3-4619-a365-f522cbac6712"
   },
   "outputs": [
    {
     "data": {
      "text/html": [
       "\n",
       "  <style>\n",
       "    pre {\n",
       "        white-space: pre;\n",
       "    }\n",
       "  </style>\n",
       "  "
      ],
      "text/plain": [
       "<IPython.core.display.HTML object>"
      ]
     },
     "metadata": {},
     "output_type": "display_data"
    },
    {
     "data": {
      "text/html": [
       "\n",
       "  <style>\n",
       "    pre {\n",
       "        white-space: pre;\n",
       "    }\n",
       "  </style>\n",
       "  "
      ],
      "text/plain": [
       "<IPython.core.display.HTML object>"
      ]
     },
     "metadata": {},
     "output_type": "display_data"
    },
    {
     "data": {
      "text/html": [
       "\n",
       "  <style>\n",
       "    pre {\n",
       "        white-space: pre;\n",
       "    }\n",
       "  </style>\n",
       "  "
      ],
      "text/plain": [
       "<IPython.core.display.HTML object>"
      ]
     },
     "metadata": {},
     "output_type": "display_data"
    },
    {
     "name": "stdout",
     "output_type": "stream",
     "text": [
      "The best second keyword shift found is:\n",
      "ABWVG\n",
      "Remember that this is not the second keyword, this is just the relative position. If you allign letter strips such that\n",
      " these letters are in one column, then one of the other columns is the second keyword.\n",
      "\n",
      "The best substitution the program found is: \n",
      "Plain Alphabet:       ABCDEFGHIJKLMNOPQRSTUVWXYZ\n",
      "Encryption Alphabet:  TSXBHMQJUZDINRGVYEKOCWAPLF\n"
     ]
    }
   ],
   "source": [
    "print(\"The best second keyword shift found is:\")\n",
    "print(best_v_keyword)\n",
    "print(\"Remember that this is not the second keyword, this is just the relative position. If you allign letter strips such that\\n \\\n",
    "these letters are in one column, then one of the other columns is the second keyword.\")\n",
    "print(\"\\nThe best substitution the program found is: \")\n",
    "print(\"Plain Alphabet:      \",  \"\".join(mdcp().alpha))\n",
    "print(\"Encryption Alphabet: \",  \"\".join(best_sub))"
   ]
  },
  {
   "cell_type": "markdown",
   "metadata": {
    "id": "1Fqenfg8DwwD"
   },
   "source": [
    "### Getting the Plaintext"
   ]
  },
  {
   "cell_type": "code",
   "execution_count": 14,
   "metadata": {
    "colab": {
     "base_uri": "https://localhost:8080/",
     "height": 72
    },
    "executionInfo": {
     "elapsed": 115,
     "status": "ok",
     "timestamp": 1649906285417,
     "user": {
      "displayName": "Wenhan Gao",
      "userId": "01637849681847403300"
     },
     "user_tz": 240
    },
    "id": "B3cq4Gx2D0_h",
    "outputId": "9d8efa30-e193-4a2a-f78f-69bf4fd94047"
   },
   "outputs": [
    {
     "data": {
      "text/html": [
       "\n",
       "  <style>\n",
       "    pre {\n",
       "        white-space: pre;\n",
       "    }\n",
       "  </style>\n",
       "  "
      ],
      "text/plain": [
       "<IPython.core.display.HTML object>"
      ]
     },
     "metadata": {},
     "output_type": "display_data"
    },
    {
     "data": {
      "text/html": [
       "\n",
       "  <style>\n",
       "    pre {\n",
       "        white-space: pre;\n",
       "    }\n",
       "  </style>\n",
       "  "
      ],
      "text/plain": [
       "<IPython.core.display.HTML object>"
      ]
     },
     "metadata": {},
     "output_type": "display_data"
    },
    {
     "data": {
      "text/html": [
       "\n",
       "  <style>\n",
       "    pre {\n",
       "        white-space: pre;\n",
       "    }\n",
       "  </style>\n",
       "  "
      ],
      "text/plain": [
       "<IPython.core.display.HTML object>"
      ]
     },
     "metadata": {},
     "output_type": "display_data"
    },
    {
     "name": "stdout",
     "output_type": "stream",
     "text": [
      "The decoded plain text is:\n",
      "IAMAMATHGRADUATEFROMTHESTATEUNIVERSITYOFNEWYORKATSTONYBROOKWHEREISTUDIEDBOTHAPPLIEDMATHEMATICSANDPUREMATHEMATICSIAMINTERESTEDINMACHINELEARNINGDISCRETEMATHGRAPHTHEORYANDMANYOTHERTOPICSINAPPLIEDMATHEMATICSANDCOMPUTERSCIENCEIAMLOOKINGFORANINTERNSHIPOPPORTUNITYINTHEFIELDOFMACHINELEARNINGESPECIALLYDEEPLEARNINGANDRECOMMENDERSYSTEMSIAMALSOOPENTOWORKINCOMPUTERVISIONROBOTICSANDSOFTWAREDEVELOPMENT\n"
     ]
    }
   ],
   "source": [
    "ciphertext = vdcp().vigenere_decrypt(msg, best_v_keyword, len(best_v_keyword)) # first we do Vigenere decipher\n",
    "plaintext =  mdcp().cipher_to_plain_with_key(ciphertext, best_sub)             # then monoalphabetic decipher\n",
    "print(\"The decoded plain text is:\")\n",
    "print(plaintext)"
   ]
  },
  {
   "cell_type": "markdown",
   "metadata": {
    "id": "FhfjbQwoxpEm"
   },
   "source": [
    "### Word Segmentation"
   ]
  },
  {
   "cell_type": "markdown",
   "metadata": {
    "id": "PecaK-81735_"
   },
   "source": [
    "We may apply word segmentation to make the plaintext easier to read.\n",
    "This part uses an open source code [wordninja](https://github.com/keredson/wordninja). The segmentation is not perfect, but it is good enough for people to comprehend."
   ]
  },
  {
   "cell_type": "code",
   "execution_count": 15,
   "metadata": {
    "colab": {
     "base_uri": "https://localhost:8080/",
     "height": 173
    },
    "executionInfo": {
     "elapsed": 133,
     "status": "ok",
     "timestamp": 1649906313885,
     "user": {
      "displayName": "Wenhan Gao",
      "userId": "01637849681847403300"
     },
     "user_tz": 240
    },
    "id": "iMxgUj1gxtyw",
    "outputId": "0ccf0663-c4b6-40a5-bb4b-3e723e2bc3b8"
   },
   "outputs": [
    {
     "data": {
      "text/html": [
       "\n",
       "  <style>\n",
       "    pre {\n",
       "        white-space: pre;\n",
       "    }\n",
       "  </style>\n",
       "  "
      ],
      "text/plain": [
       "<IPython.core.display.HTML object>"
      ]
     },
     "metadata": {},
     "output_type": "display_data"
    },
    {
     "data": {
      "text/html": [
       "\n",
       "  <style>\n",
       "    pre {\n",
       "        white-space: pre;\n",
       "    }\n",
       "  </style>\n",
       "  "
      ],
      "text/plain": [
       "<IPython.core.display.HTML object>"
      ]
     },
     "metadata": {},
     "output_type": "display_data"
    },
    {
     "data": {
      "text/html": [
       "\n",
       "  <style>\n",
       "    pre {\n",
       "        white-space: pre;\n",
       "    }\n",
       "  </style>\n",
       "  "
      ],
      "text/plain": [
       "<IPython.core.display.HTML object>"
      ]
     },
     "metadata": {},
     "output_type": "display_data"
    },
    {
     "name": "stdout",
     "output_type": "stream",
     "text": [
      "The segmented plaintext is:\n",
      "\n",
      "    iam a math graduate from the state university of new york at stony brook\n",
      "    where i studied both applied mathematics and pure mathematics iam interested\n",
      "    in machine learning discrete math graph theory and many other topics in\n",
      "    applied mathematics and computer science iam looking for an internship\n",
      "    opportunity in the field of machine learning especially deep learning and\n",
      "    recommend er system siam also open to work in computer vision robotics and\n",
      "    software development\n"
     ]
    }
   ],
   "source": [
    "segmented_plaintext = wordninja.split(plaintext)\n",
    "print(\"The segmented plaintext is:\\n\")\n",
    "print(wrapper.fill(\" \".join(segmented_plaintext).lower()))"
   ]
  },
  {
   "cell_type": "markdown",
   "metadata": {
    "id": "b91-HN1E_wVw"
   },
   "source": [
    "# Other Useful Functions"
   ]
  },
  {
   "cell_type": "markdown",
   "metadata": {
    "id": "Y9QRGfYtp1qc"
   },
   "source": [
    "### Vigenere Decryption by the Second Keyword"
   ]
  },
  {
   "cell_type": "markdown",
   "metadata": {
    "id": "XXB56Ukb_1vg"
   },
   "source": [
    "With known second keyword(performed frequency strips alignment by real human or just know the keyword), we may decode the msg to a ciphertext for the monoalphabetic decoder to decode."
   ]
  },
  {
   "cell_type": "code",
   "execution_count": 16,
   "metadata": {
    "colab": {
     "base_uri": "https://localhost:8080/",
     "height": 72
    },
    "executionInfo": {
     "elapsed": 113,
     "status": "ok",
     "timestamp": 1649906357098,
     "user": {
      "displayName": "Wenhan Gao",
      "userId": "01637849681847403300"
     },
     "user_tz": 240
    },
    "id": "ZLklI600vn1N",
    "outputId": "c7e950ee-5ef8-407d-8463-4f35a054edbd",
    "scrolled": true
   },
   "outputs": [
    {
     "data": {
      "text/html": [
       "\n",
       "  <style>\n",
       "    pre {\n",
       "        white-space: pre;\n",
       "    }\n",
       "  </style>\n",
       "  "
      ],
      "text/plain": [
       "<IPython.core.display.HTML object>"
      ]
     },
     "metadata": {},
     "output_type": "display_data"
    },
    {
     "data": {
      "text/html": [
       "\n",
       "  <style>\n",
       "    pre {\n",
       "        white-space: pre;\n",
       "    }\n",
       "  </style>\n",
       "  "
      ],
      "text/plain": [
       "<IPython.core.display.HTML object>"
      ]
     },
     "metadata": {},
     "output_type": "display_data"
    },
    {
     "data": {
      "text/html": [
       "\n",
       "  <style>\n",
       "    pre {\n",
       "        white-space: pre;\n",
       "    }\n",
       "  </style>\n",
       "  "
      ],
      "text/plain": [
       "<IPython.core.display.HTML object>"
      ]
     },
     "metadata": {},
     "output_type": "display_data"
    },
    {
     "name": "stdout",
     "output_type": "stream",
     "text": [
      "New ciphertext is:\n",
      " CBVBVBWRYMBJKBWPUMOVWRPSWBWPKZCEPMSCWTOUZPITOMLBWSWOZTAMOOLIRPMPCSWKJCPJAOWRBDDQCPJVBWRPVBWCFSBZJDKMPVBWRPVBWCFSCBVCZWPMPSWPJCZVBFRCZPQPBMZCZYJCSFMPWPVBWRYMBDRWRPOMTBZJVBZTOWRPMWODCFSCZBDDQCPJVBWRPVBWCFSBZJFOVDKWPMSFCPZFPCBVQOOLCZYUOMBZCZWPMZSRCDODDOMWKZCWTCZWRPUCPQJOUVBFRCZPQPBMZCZYPSDPFCBQQTJPPDQPBMZCZYBZJMPFOVVPZJPMSTSWPVSCBVBQSOODPZWOIOMLCZFOVDKWPMECSCOZMOAOWCFSBZJSOUWIBMPJPEPQODVPZW\n"
     ]
    }
   ],
   "source": [
    "second_keyword = \"STONY\"\n",
    "ciphertext = vdcp().vigenere_decrypt(msg, second_keyword, len(second_keyword))\n",
    "print(\"New ciphertext is:\\n\", ciphertext)"
   ]
  },
  {
   "cell_type": "markdown",
   "metadata": {
    "id": "4Ty1A7hUxZfF"
   },
   "source": [
    "### Trigraph Table"
   ]
  },
  {
   "cell_type": "markdown",
   "metadata": {
    "id": "BsxBJX-WjFJv"
   },
   "source": [
    "Each trigram in the text is represented as the letter in the middle and its neighbors. For example, GE under A represents the trigram GAE."
   ]
  },
  {
   "cell_type": "code",
   "execution_count": 17,
   "metadata": {
    "colab": {
     "base_uri": "https://localhost:8080/",
     "height": 0
    },
    "executionInfo": {
     "elapsed": 200,
     "status": "ok",
     "timestamp": 1649906358458,
     "user": {
      "displayName": "Wenhan Gao",
      "userId": "01637849681847403300"
     },
     "user_tz": 240
    },
    "id": "DwUQDINu3PiA",
    "outputId": "a9766223-7f26-42bb-b921-231962b018e8"
   },
   "outputs": [
    {
     "data": {
      "text/html": [
       "\n",
       "  <style>\n",
       "    pre {\n",
       "        white-space: pre;\n",
       "    }\n",
       "  </style>\n",
       "  "
      ],
      "text/plain": [
       "<IPython.core.display.HTML object>"
      ]
     },
     "metadata": {},
     "output_type": "display_data"
    },
    {
     "data": {
      "text/html": [
       "\n",
       "  <style>\n",
       "    pre {\n",
       "        white-space: pre;\n",
       "    }\n",
       "  </style>\n",
       "  "
      ],
      "text/plain": [
       "<IPython.core.display.HTML object>"
      ]
     },
     "metadata": {},
     "output_type": "display_data"
    },
    {
     "data": {
      "text/html": [
       "\n",
       "  <style>\n",
       "    pre {\n",
       "        white-space: pre;\n",
       "    }\n",
       "  </style>\n",
       "  "
      ],
      "text/plain": [
       "<IPython.core.display.HTML object>"
      ]
     },
     "metadata": {},
     "output_type": "display_data"
    },
    {
     "name": "stdout",
     "output_type": "stream",
     "text": [
      "Trigraph Table:\n",
      "\n",
      "\n",
      "| A   | B   | C   | D   | E   | F   | G   | H   | I   | J   | K   | L   | M   | N   | O   | P   | Q   | R   | S   | T   | U   | V   | W   | X   | Y   | Z   |\n",
      "|-----|-----|-----|-----|-----|-----|-----|-----|-----|-----|-----|-----|-----|-----|-----|-----|-----|-----|-----|-----|-----|-----|-----|-----|-----|-----|\n",
      "| 3   | 35  | 35  | 16  | 3   | 14  | 0   | 0   | 4   | 16  | 7   | 4   | 25  | 0   | 28  | 46  | 11  | 15  | 20  | 8   | 6   | 22  | 34  | 0   | 6   | 32  |\n",
      "| TM  | CV  | B   | BD  | CP  | CS  | -   | -   | PT  | BK  | JB  | MB  | YB  | -   | MV  | WU  | DC  | WY  | PW  | WO  | PM  | BB  | BR  | -   | RM  | KC  |\n",
      "| JO  | VV  | ZE  | DQ  | MC  | CS  | -   | -   | LR  | KC  | PZ  | OI  | UO  | -   | TU  | RS  | PP  | WP  | MC  | IO  | OZ  | BB  | BP  | -   | ZJ  | UP  |\n",
      "| OO  | VW  | SW  | JK  | PP  | BR  | -   | -   | OO  | PA  | WJ  | OC  | PS  | -   | TM  | WK  | DC  | IP  | WW  | ZA  | YO  | OW  | VR  | -   | RM  | OT  |\n",
      "| -   | MJ  | PS  | BR  | -   | SM  | -   | -   | WB  | PV  | DM  | MC  | OL  | -   | WZ  | EM  | VO  | WB  | CW  | MB  | PC  | JB  | SB  | -   | ZU  | BJ  |\n",
      "| -   | KW  | JP  | OC  | -   | CS  | -   | -   | -   | ZD  | DW  | -   | AO  | -   | MO  | ZI  | PJ  | WP  | FB  | ZO  | OV  | PB  | BP  | -   | ZP  | CW  |\n",
      "| -   | WW  | QP  | BD  | -   | CS  | -   | -   | -   | PC  | WZ  | -   | PP  | -   | OL  | RM  | PP  | WP  | FC  | WC  | OW  | PB  | CT  | -   | ZB  | CV  |\n",
      "| -   | LW  | WF  | DQ  | -   | JO  | -   | -   | -   | YC  | DW  | -   | KP  | -   | AW  | MC  | BQ  | FC  | PW  | QJ  | -   | PB  | BS  | -   | -   | CP  |\n",
      "| -   | RD  | WF  | VK  | -   | SC  | -   | -   | -   | ZV  | -   | -   | PP  | -   | PM  | CJ  | QT  | WY  | CF  | SS  | -   | BC  | SO  | -   | -   | MC  |\n",
      "| -   | VW  | SB  | CO  | -   | ZP  | -   | -   | -   | PV  | -   | -   | BZ  | -   | TW  | CJ  | DP  | DW  | FC  | -   | -   | ZB  | SK  | -   | -   | CY  |\n",
      "| -   | VW  | VZ  | OD  | -   | BR  | -   | -   | -   | ZF  | -   | -   | FP  | -   | WD  | RV  | BS  | WP  | FB  | -   | -   | PB  | OR  | -   | -   | BJ  |\n",
      "| -   | SZ  | JZ  | DO  | -   | PC  | -   | -   | -   | QO  | -   | -   | YB  | -   | FV  | MV  | PO  | WP  | MF  | -   | -   | JB  | BR  | -   | -   | BT  |\n",
      "| -   | VW  | RZ  | SP  | -   | PO  | -   | -   | -   | TP  | -   | -   | OT  | -   | QO  | RV  | -   | WP  | ZR  | -   | -   | JB  | BC  | -   | -   | CB  |\n",
      "| -   | VW  | ZZ  | PQ  | -   | ZO  | -   | -   | -   | ZM  | -   | -   | PW  | -   | OL  | WM  | -   | SC  | PD  | -   | -   | PB  | BR  | -   | -   | BJ  |\n",
      "| -   | CV  | JS  | OP  | -   | CS  | -   | -   | -   | ZP  | -   | -   | PS  | -   | UM  | MS  | -   | WP  | MT  | -   | -   | OD  | BC  | -   | -   | PF  |\n",
      "| -   | VF  | DF  | VK  | -   | -   | -   | -   | -   | ZS  | -   | -   | OB  | -   | DD  | WJ  | -   | FC  | TW  | -   | -   | BQ  | ZP  | -   | -   | CY  |\n",
      "| -   | PM  | SZ  | OV  | -   | -   | -   | -   | -   | PP  | -   | -   | PZ  | -   | DM  | ZQ  | -   | -   | VC  | -   | -   | UB  | SP  | -   | -   | BC  |\n",
      "| -   | VW  | QP  | -   | -   | -   | -   | -   | -   | -   | -   | -   | OW  | -   | JU  | QB  | -   | -   | QO  | -   | -   | OV  | PP  | -   | -   | CW  |\n",
      "| -   | MD  | WF  | -   | -   | -   | -   | -   | -   | -   | -   | -   | BZ  | -   | FV  | MW  | -   | -   | CC  | -   | -   | VP  | BR  | -   | -   | MS  |\n",
      "| -   | TZ  | FP  | -   | -   | -   | -   | -   | -   | -   | -   | -   | BZ  | -   | SO  | WV  | -   | -   | FB  | -   | -   | PS  | RR  | -   | -   | KC  |\n",
      "| -   | VZ  | PB  | -   | -   | -   | -   | -   | -   | -   | -   | -   | JP  | -   | OD  | RO  | -   | -   | JO  | -   | -   | BB  | OR  | -   | -   | CW  |\n",
      "| -   | ZD  | LZ  | -   | -   | -   | -   | -   | -   | -   | -   | -   | PS  | -   | WI  | RM  | -   | -   | -   | -   | -   | OD  | MO  | -   | -   | CP  |\n",
      "| -   | VW  | ZZ  | -   | -   | -   | -   | -   | -   | -   | -   | -   | OL  | -   | IM  | CJ  | -   | -   | -   | -   | -   | DP  | BR  | -   | -   | MC  |\n",
      "| -   | VW  | RD  | -   | -   | -   | -   | -   | -   | -   | -   | -   | PE  | -   | FV  | RV  | -   | -   | -   | -   | -   | -   | BC  | -   | -   | CY  |\n",
      "| -   | SZ  | ZW  | -   | -   | -   | -   | -   | -   | -   | -   | -   | ZO  | -   | CZ  | WM  | -   | -   | -   | -   | -   | -   | KP  | -   | -   | MC  |\n",
      "| -   | CV  | TZ  | -   | -   | -   | -   | -   | -   | -   | -   | -   | BP  | -   | MA  | CZ  | -   | -   | -   | -   | -   | -   | ZP  | -   | -   | CY  |\n",
      "| -   | MZ  | UP  | -   | -   | -   | -   | -   | -   | -   | -   | -   | -   | -   | AW  | FC  | -   | -   | -   | -   | -   | -   | MK  | -   | -   | BJ  |\n",
      "| -   | VF  | RZ  | -   | -   | -   | -   | -   | -   | -   | -   | -   | -   | -   | SU  | WM  | -   | -   | -   | -   | -   | -   | CT  | -   | -   | PJ  |\n",
      "| -   | PM  | ZZ  | -   | -   | -   | -   | -   | -   | -   | -   | -   | -   | -   | QD  | RU  | -   | -   | -   | -   | -   | -   | ZR  | -   | -   | PW  |\n",
      "| -   | CQ  | FB  | -   | -   | -   | -   | -   | -   | -   | -   | -   | -   | -   | -   | CQ  | -   | -   | -   | -   | -   | -   | SP  | -   | -   | CF  |\n",
      "| -   | PM  | ZZ  | -   | -   | -   | -   | -   | -   | -   | -   | -   | -   | -   | -   | ZQ  | -   | -   | -   | -   | -   | -   | ZO  | -   | -   | OM  |\n",
      "| -   | YZ  | SB  | -   | -   | -   | -   | -   | -   | -   | -   | -   | -   | -   | -   | QB  | -   | -   | -   | -   | -   | -   | KP  | -   | -   | BJ  |\n",
      "| -   | CV  | LZ  | -   | -   | -   | -   | -   | -   | -   | -   | -   | -   | -   | -   | YS  | -   | -   | -   | -   | -   | -   | OC  | -   | -   | PW  |\n",
      "| -   | VQ  | ES  | -   | -   | -   | -   | -   | -   | -   | -   | -   | -   | -   | -   | DF  | -   | -   | -   | -   | -   | -   | UI  | -   | -   | -   |\n",
      "| -   | SZ  | SO  | -   | -   | -   | -   | -   | -   | -   | -   | -   | -   | -   | -   | JP  | -   | -   | -   | -   | -   | -   | Z   | -   | -   | -   |\n",
      "| -   | IM  | WF  | -   | -   | -   | -   | -   | -   | -   | -   | -   | -   | -   | -   | PD  | -   | -   | -   | -   | -   | -   | -   | -   | -   | -   |\n",
      "| -   | -   | -   | -   | -   | -   | -   | -   | -   | -   | -   | -   | -   | -   | -   | QB  | -   | -   | -   | -   | -   | -   | -   | -   | -   | -   |\n",
      "| -   | -   | -   | -   | -   | -   | -   | -   | -   | -   | -   | -   | -   | -   | -   | MF  | -   | -   | -   | -   | -   | -   | -   | -   | -   | -   |\n",
      "| -   | -   | -   | -   | -   | -   | -   | -   | -   | -   | -   | -   | -   | -   | -   | VZ  | -   | -   | -   | -   | -   | -   | -   | -   | -   | -   |\n",
      "| -   | -   | -   | -   | -   | -   | -   | -   | -   | -   | -   | -   | -   | -   | -   | JM  | -   | -   | -   | -   | -   | -   | -   | -   | -   | -   |\n",
      "| -   | -   | -   | -   | -   | -   | -   | -   | -   | -   | -   | -   | -   | -   | -   | WV  | -   | -   | -   | -   | -   | -   | -   | -   | -   | -   |\n",
      "| -   | -   | -   | -   | -   | -   | -   | -   | -   | -   | -   | -   | -   | -   | -   | DZ  | -   | -   | -   | -   | -   | -   | -   | -   | -   | -   |\n",
      "| -   | -   | -   | -   | -   | -   | -   | -   | -   | -   | -   | -   | -   | -   | -   | WM  | -   | -   | -   | -   | -   | -   | -   | -   | -   | -   |\n",
      "| -   | -   | -   | -   | -   | -   | -   | -   | -   | -   | -   | -   | -   | -   | -   | MJ  | -   | -   | -   | -   | -   | -   | -   | -   | -   | -   |\n",
      "| -   | -   | -   | -   | -   | -   | -   | -   | -   | -   | -   | -   | -   | -   | -   | JE  | -   | -   | -   | -   | -   | -   | -   | -   | -   | -   |\n",
      "| -   | -   | -   | -   | -   | -   | -   | -   | -   | -   | -   | -   | -   | -   | -   | EQ  | -   | -   | -   | -   | -   | -   | -   | -   | -   | -   |\n",
      "| -   | -   | -   | -   | -   | -   | -   | -   | -   | -   | -   | -   | -   | -   | -   | VZ  | -   | -   | -   | -   | -   | -   | -   | -   | -   | -   |\n"
     ]
    }
   ],
   "source": [
    "print(\"Trigraph Table:\")\n",
    "mdcp().trigraph_table(ciphertext)"
   ]
  },
  {
   "cell_type": "markdown",
   "metadata": {
    "id": "sVB2TnFJ4Ly9"
   },
   "source": [
    "### Monoalphabetic Decryption by English Trigram Frequencies"
   ]
  },
  {
   "cell_type": "markdown",
   "metadata": {
    "id": "8rcSChSbuP4t"
   },
   "source": [
    "The program attempts to decrypt the ciphertext by greedy. This may take a few minutes. Sometimes it is off by just one or two letters, a real human can fix it quickly."
   ]
  },
  {
   "cell_type": "code",
   "execution_count": null,
   "metadata": {
    "colab": {
     "base_uri": "https://localhost:8080/",
     "height": 17
    },
    "id": "mYFjYJzOwOyV",
    "outputId": "ace39fec-a36e-4cb1-8eb2-d7dafb042e94"
   },
   "outputs": [
    {
     "data": {
      "text/html": [
       "\n",
       "  <style>\n",
       "    pre {\n",
       "        white-space: pre;\n",
       "    }\n",
       "  </style>\n",
       "  "
      ],
      "text/plain": [
       "<IPython.core.display.HTML object>"
      ]
     },
     "metadata": {},
     "output_type": "display_data"
    }
   ],
   "source": [
    "# get_key takes 3 arguments: ciphertext, initial_trials, swaptrials; increase trial numbers may increase accurary \n",
    "key = mdcp().get_key(ciphertext, 50, 2500)  "
   ]
  },
  {
   "cell_type": "code",
   "execution_count": null,
   "metadata": {
    "colab": {
     "base_uri": "https://localhost:8080/",
     "height": 86
    },
    "id": "4CbqbcMmvbDX",
    "outputId": "1ddd2614-4809-4048-f7b3-4242b52d0276"
   },
   "outputs": [
    {
     "data": {
      "text/html": [
       "\n",
       "  <style>\n",
       "    pre {\n",
       "        white-space: pre;\n",
       "    }\n",
       "  </style>\n",
       "  "
      ],
      "text/plain": [
       "<IPython.core.display.HTML object>"
      ]
     },
     "metadata": {},
     "output_type": "display_data"
    },
    {
     "name": "stdout",
     "output_type": "stream",
     "text": [
      "The best key that the program generated is: \n",
      "\n",
      "Plain Alphabet:       ABCDEFGHIJKLMNOPQRSTUVWXYZ\n",
      "Encryption Alphabet:  AZERTYUIOPQSDFGHJKLMWXCVBN\n"
     ]
    }
   ],
   "source": [
    "print(\"The best key that the program generated is: \\n\")\n",
    "print(\"Plain Alphabet:      \",  \"\".join(mdcp().alpha))\n",
    "print(\"Encryption Alphabet: \",  \"\".join(key))"
   ]
  },
  {
   "cell_type": "code",
   "execution_count": null,
   "metadata": {
    "colab": {
     "base_uri": "https://localhost:8080/",
     "height": 89
    },
    "id": "HFaLl3ywwGmH",
    "outputId": "0cdb2b6a-732f-47ff-cfa1-2ad32764d804"
   },
   "outputs": [
    {
     "data": {
      "text/html": [
       "\n",
       "  <style>\n",
       "    pre {\n",
       "        white-space: pre;\n",
       "    }\n",
       "  </style>\n",
       "  "
      ],
      "text/plain": [
       "<IPython.core.display.HTML object>"
      ]
     },
     "metadata": {},
     "output_type": "display_data"
    },
    {
     "name": "stdout",
     "output_type": "stream",
     "text": [
      "The plaintext decrypted with above key is:\n",
      "\n",
      "IAMAMATHGRADUATEFROMTHESTATEUNIVERSITYOFNEWYORKATSTONYBROOKWHEREISTUDIEDBOTHAPPLIEDMATHEMATICSANDPUREMATHEMATICSIAMINTERESTEDINMACHINELEARNINGDISCRETEMATHGRAPHTHEORYANDMANYOTHERTOPICSINAPPLIEDMATHEMATICSANDCOMPUTERSCIENCEIAMLOOKINGFORANINTERNSHIPOPPORTUNITYINTHEFIELDOFMACHINELEARNINGESPECIALLYDEEPLEARNINGANDRECOMMENDERSYSTEMSIAMALSOOPENTOWORKINCOMPUTERVISIONROBOTICSANDSOFTWAREDEVELOPMENT\n"
     ]
    }
   ],
   "source": [
    "plaintext =  mdcp().cipher_to_plain_with_key(ciphertext, key)\n",
    "print(\"The plaintext decrypted with above key is:\\n\")\n",
    "print(plaintext)"
   ]
  }
 ],
 "metadata": {
  "colab": {
   "collapsed_sections": [
    "gHJlkp6dQwDx",
    "7Qkjq70EQ1iI",
    "NXyRdEWJmTN8",
    "4Ty1A7hUxZfF"
   ],
   "name": "User_Guide.ipynb",
   "provenance": []
  },
  "kernelspec": {
   "display_name": "Python 3",
   "language": "python",
   "name": "python3"
  },
  "language_info": {
   "codemirror_mode": {
    "name": "ipython",
    "version": 3
   },
   "file_extension": ".py",
   "mimetype": "text/x-python",
   "name": "python",
   "nbconvert_exporter": "python",
   "pygments_lexer": "ipython3",
   "version": "3.8.8"
  }
 },
 "nbformat": 4,
 "nbformat_minor": 1
}
